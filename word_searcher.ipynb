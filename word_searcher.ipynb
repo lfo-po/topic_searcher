{
 "cells": [
  {
   "cell_type": "code",
   "execution_count": null,
   "metadata": {},
   "outputs": [],
   "source": [
    "import sys\n",
    "import pickle\n",
    "\n",
    "import numpy as np\n",
    "import pandas as pd\n",
    "import ipywidgets as widgets\n",
    "from ipywidgets import fixed\n",
    "# import matplotlib.pyplot as plt\n",
    "# import seaborn as sns\n",
    "\n",
    "from functions import get_topic_common_decisions,find_elements,get_element_topic_info,plot_topic_evolution"
   ]
  },
  {
   "cell_type": "code",
   "execution_count": null,
   "metadata": {
    "scrolled": false
   },
   "outputs": [],
   "source": [
    "corpus='TH'\n",
    "element='w'\n",
    "path='./topic_model_data/'\n",
    "memberships_df=pd.read_pickle(path+element+'_memberships_df.pkl')\n",
    "\n",
    "with open(path+element+'_topics_h-structure.pkl','rb') as in_f:\n",
    "    topic_memb=pickle.load(in_f)\n",
    "\n",
    "element_list=list(memberships_df.index)\n",
    "#decisions_list=np.load(path+corpus+'-d'+element+'_decisions_list.npy')\n",
    "\n",
    "decisions_df=pd.read_pickle(path+'th-'+element+'_decisions_df.pkl')"
   ]
  },
  {
   "cell_type": "markdown",
   "metadata": {},
   "source": [
    "### 1. Search words and chains of words:\n",
    "\n",
    "Type a string (at least 4 characters) and all the words or chains of words containing it will be displayed."
   ]
  },
  {
   "cell_type": "code",
   "execution_count": null,
   "metadata": {},
   "outputs": [],
   "source": [
    "st_search=widgets.Text(\n",
    "    value=None,\n",
    "    placeholder='Type something',\n",
    "    description='Write a string to search:',\n",
    "    disabled=False\n",
    ")\n",
    "\n",
    "a=widgets.interact(find_elements, string=st_search, element_list=fixed(element_list),min_ch=fixed(4))  \n",
    "print('\\n\\n\\n')"
   ]
  },
  {
   "cell_type": "markdown",
   "metadata": {},
   "source": [
    "### 2. Display topic hierarchical structure given a specific word:\n",
    "\n",
    "Type the exact word/chain of words and the topics which belongs to at each level will be displayed along with the other words belonging to them."
   ]
  },
  {
   "cell_type": "code",
   "execution_count": null,
   "metadata": {
    "scrolled": false
   },
   "outputs": [],
   "source": [
    "e_search=widgets.Text(\n",
    "    value=None,\n",
    "    placeholder='Type something',\n",
    "    description='Write the exact element:',\n",
    "    disabled=False\n",
    ")\n",
    "\n",
    "b=widgets.interact(get_element_topic_info, e=e_search, topic_memb=fixed(topic_memb),\n",
    "                   memberships_df=fixed(memberships_df),element_list=fixed(element_list),element=fixed(element),\n",
    "                   corpus=fixed(corpus), max_w=fixed(15),path=fixed('./topic_model_data/')\n",
    "                  ) \n",
    "print('\\n\\n\\n')"
   ]
  },
  {
   "cell_type": "markdown",
   "metadata": {},
   "source": [
    "### 3. Plot topic evolution\n",
    "\n",
    "Select a hierarchical level and type a topic. Plots will show the evolution of relative importance of the topic selected (left) and the evolution of its sub-topics at the level below (rigth).\n",
    "\n",
    "Words for topic and sub-topics can be found using the previous searcher (2.)"
   ]
  },
  {
   "cell_type": "code",
   "execution_count": null,
   "metadata": {},
   "outputs": [],
   "source": [
    "hl=widgets.Dropdown(\n",
    "    options=[1, 2, 3],\n",
    "    value=2,\n",
    "    description='Hierarchical level:',\n",
    "    disabled=False,\n",
    ")\n",
    "\n",
    "t=widgets.BoundedIntText(\n",
    "    value=108,\n",
    "    min=0,\n",
    "    max=2000,\n",
    "    step=1,\n",
    "    description='Topic:',\n",
    "    disabled=False\n",
    ")\n",
    "\n",
    "w=widgets.interact(plot_topic_evolution,hl=hl,t=t,corpus=fixed(corpus),\n",
    "                   element=fixed(element),topic_memb=fixed(topic_memb),path=fixed('./topic_model_data/')\n",
    "                  )\n",
    "print('\\n\\n\\n')"
   ]
  },
  {
   "cell_type": "markdown",
   "metadata": {},
   "source": [
    "### Find decisions related to specific topic\n",
    "\n",
    "Given a topic and a hierarchical level, top-10 decisons (TOL id) where this topic appears the most will be displayed. "
   ]
  },
  {
   "cell_type": "code",
   "execution_count": null,
   "metadata": {},
   "outputs": [],
   "source": [
    "hl=widgets.Dropdown(\n",
    "    options=['0','1', '2', '3'],\n",
    "    value='2',\n",
    "    description='Hierarchical level:',\n",
    "    disabled=False,\n",
    ")\n",
    "\n",
    "t=widgets.BoundedIntText(\n",
    "    value=0,\n",
    "    min=0,\n",
    "    max=2000,\n",
    "    step=1,\n",
    "    description='Topic:',\n",
    "    disabled=False\n",
    ")\n",
    "\n",
    "w=widgets.interact(get_topic_common_decisions,t=t, hl=hl,\n",
    "                   d_df=fixed(decisions_df),element=fixed(element),corpus=fixed(corpus),\n",
    "                   path=fixed(path),Nd=fixed(10)\n",
    "                  )  \n",
    "print('\\n\\n\\n')"
   ]
  },
  {
   "cell_type": "code",
   "execution_count": null,
   "metadata": {},
   "outputs": [],
   "source": [
    "# %load_ext watermark\n",
    "\n",
    "# # python, ipython, packages, and machine characteristics\n",
    "# %watermark -v -m -p pandas,numpy,scipy,ipywidgets,jupyter_contrib_nbextensions,seaborn,matplotlib\n",
    "\n",
    "# # date\n",
    "# print (\" \")\n",
    "# %watermark -u -n -t -z"
   ]
  },
  {
   "cell_type": "code",
   "execution_count": null,
   "metadata": {},
   "outputs": [],
   "source": []
  }
 ],
 "metadata": {
  "hide_input": true,
  "kernelspec": {
   "display_name": "Python 3",
   "language": "python",
   "name": "python3"
  },
  "language_info": {
   "codemirror_mode": {
    "name": "ipython",
    "version": 3
   },
   "file_extension": ".py",
   "mimetype": "text/x-python",
   "name": "python",
   "nbconvert_exporter": "python",
   "pygments_lexer": "ipython3",
   "version": "3.8.10"
  }
 },
 "nbformat": 4,
 "nbformat_minor": 4
}
