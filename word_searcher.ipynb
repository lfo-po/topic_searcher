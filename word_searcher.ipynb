{
 "cells": [
  {
   "cell_type": "code",
   "execution_count": null,
   "metadata": {},
   "outputs": [],
   "source": [
    "import sys\n",
    "import pickle\n",
    "\n",
    "import numpy as np\n",
    "import pandas as pd\n",
    "import ipywidgets as widgets\n",
    "from ipywidgets import fixed\n",
    "\n",
    "from functions import get_distributions_data,get_topic_common_elements,find_elements,get_element_topic_info"
   ]
  },
  {
   "cell_type": "code",
   "execution_count": null,
   "metadata": {
    "scrolled": false
   },
   "outputs": [],
   "source": [
    "corpus='TH'\n",
    "element='w'\n",
    "with open('./topic_model_data/'+element+'_memberships_df.pkl','rb') as in_f:\n",
    "    memberships_df=pickle.load(in_f)\n",
    "with open('./topic_model_data/'+element+'_topics_h-structure.pkl','rb') as in_f:\n",
    "    topic_memb=pickle.load(in_f)\n",
    "\n",
    "element_list=list(memberships_df.index)"
   ]
  },
  {
   "cell_type": "markdown",
   "metadata": {},
   "source": [
    "### Search words and chains of words:\n",
    "\n",
    "Type a string (at least 4 characters) and all the words or chains of words containing it will be displayed."
   ]
  },
  {
   "cell_type": "code",
   "execution_count": null,
   "metadata": {
    "scrolled": true
   },
   "outputs": [],
   "source": [
    "st_search=widgets.Text(\n",
    "    value=None,\n",
    "    placeholder='Type something',\n",
    "    description='Write a string to search:',\n",
    "    disabled=False\n",
    ")\n",
    "\n",
    "a=widgets.interact(find_elements, string=st_search, element_list=fixed(element_list),min_ch=fixed(4))    "
   ]
  },
  {
   "cell_type": "markdown",
   "metadata": {},
   "source": [
    "### Display topic hierarchical structure given a specific word:\n",
    "\n",
    "Type the exact word/chain of words and the topics which belongs to at each level will be displayed along with the other words belonging to them."
   ]
  },
  {
   "cell_type": "code",
   "execution_count": null,
   "metadata": {
    "scrolled": false
   },
   "outputs": [],
   "source": [
    "e_search=widgets.Text(\n",
    "    value=None,\n",
    "    placeholder='Type something',\n",
    "    description='Write the exact element:',\n",
    "    disabled=False\n",
    ")\n",
    "\n",
    "b=widgets.interact(get_element_topic_info, e=e_search, topic_memb=fixed(topic_memb),\n",
    "                   memberships_df=fixed(memberships_df),element_list=fixed(element_list),element=fixed(element),\n",
    "                   corpus=fixed(corpus), max_w=fixed(15),path=fixed('./topic_model_data/')\n",
    "                  ) "
   ]
  },
  {
   "cell_type": "code",
   "execution_count": null,
   "metadata": {},
   "outputs": [],
   "source": [
    "# %load_ext watermark\n",
    "\n",
    "# # python, ipython, packages, and machine characteristics\n",
    "# %watermark -v -m -p pandas,numpy,scipy,ipywidgets,jupyter_contrib_nbextensions\n",
    "\n",
    "# # date\n",
    "# print (\" \")\n",
    "# %watermark -u -n -t -z"
   ]
  }
 ],
 "metadata": {
  "hide_input": true,
  "kernelspec": {
   "display_name": "Python 3",
   "language": "python",
   "name": "python3"
  },
  "language_info": {
   "codemirror_mode": {
    "name": "ipython",
    "version": 3
   },
   "file_extension": ".py",
   "mimetype": "text/x-python",
   "name": "python",
   "nbconvert_exporter": "python",
   "pygments_lexer": "ipython3",
   "version": "3.8.10"
  }
 },
 "nbformat": 4,
 "nbformat_minor": 4
}
