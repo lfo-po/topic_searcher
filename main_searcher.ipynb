{
 "cells": [
  {
   "cell_type": "code",
   "execution_count": 6,
   "metadata": {},
   "outputs": [],
   "source": [
    "import sys\n",
    "import pickle\n",
    "\n",
    "import numpy as np\n",
    "import pandas as pd\n",
    "import ipywidgets as widgets\n",
    "from IPython.display import display\n",
    "from ipywidgets import interact, interactive, fixed, interact_manual\n",
    "\n",
    "# path_modules = '../../02_py_packages'\n",
    "# sys.path.append(path_modules)\n",
    "from functions import get_distributions_data,get_topic_common_elements,find_elements,get_element_topic_info"
   ]
  },
  {
   "cell_type": "code",
   "execution_count": 7,
   "metadata": {
    "scrolled": false
   },
   "outputs": [],
   "source": [
    "corpus='TH'\n",
    "element='w'\n",
    "with open('./topic_model_data/'+element+'_memberships_df.pkl','rb') as in_f:\n",
    "    memberships_df=pickle.load(in_f)\n",
    "with open('./topic_model_data/'+element+'_topics_h-structure.pkl','rb') as in_f:\n",
    "    topic_memb=pickle.load(in_f)\n",
    "\n",
    "element_list=list(memberships_df.index)"
   ]
  },
  {
   "cell_type": "markdown",
   "metadata": {},
   "source": [
    "### Search words and chains of words:\n",
    "\n",
    "Type a string (at least 4 characters) and all the words or chains of words containing it will be displayed."
   ]
  },
  {
   "cell_type": "code",
   "execution_count": 8,
   "metadata": {
    "scrolled": true
   },
   "outputs": [
    {
     "name": "stderr",
     "output_type": "stream",
     "text": [
      "Widget Javascript not detected.  It may not be installed or enabled properly.\n"
     ]
    },
    {
     "data": {
      "application/vnd.jupyter.widget-view+json": {
       "model_id": "5e20a7eab1864f4eb9a5bc88a429c401"
      }
     },
     "metadata": {},
     "output_type": "display_data"
    }
   ],
   "source": [
    "st_search=widgets.Text(\n",
    "    value=None,\n",
    "    placeholder='Type something',\n",
    "    description='Write a string to search:',\n",
    "    disabled=False\n",
    ")\n",
    "\n",
    "a=widgets.interact(find_elements, string=st_search, element_list=fixed(element_list),min_ch=fixed(4))    "
   ]
  },
  {
   "cell_type": "markdown",
   "metadata": {},
   "source": [
    "### Display topic hierarchical structure given a specific word:\n",
    "\n",
    "Type the exact word/chain of words and the topics which belongs to at each level will be displayed along with the other words belonging to them."
   ]
  },
  {
   "cell_type": "code",
   "execution_count": 9,
   "metadata": {
    "scrolled": false
   },
   "outputs": [
    {
     "name": "stdout",
     "output_type": "stream",
     "text": [
      "Display topic hierarchical structure given a specific element:\n"
     ]
    },
    {
     "name": "stderr",
     "output_type": "stream",
     "text": [
      "Widget Javascript not detected.  It may not be installed or enabled properly.\n"
     ]
    },
    {
     "data": {
      "application/vnd.jupyter.widget-view+json": {
       "model_id": "bb2ac1c3fdbf4ded9bea40bb0039e627"
      }
     },
     "metadata": {},
     "output_type": "display_data"
    }
   ],
   "source": [
    "e_search=widgets.Text(\n",
    "    value=None,\n",
    "    placeholder='Type something',\n",
    "    description='Write the exact element:',\n",
    "    disabled=False\n",
    ")\n",
    "\n",
    "#(e,topic_memb,memberships_df,element_list,corpus,max_w=15,path='./topic_model_data/')\n",
    "print('Display topic hierarchical structure given a specific element:')\n",
    "b=widgets.interact(get_element_topic_info, e=e_search, topic_memb=fixed(topic_memb),\n",
    "                   memberships_df=fixed(memberships_df),element_list=fixed(element_list),element=fixed(element),\n",
    "                   corpus=fixed(corpus), max_w=fixed(15),path=fixed('./topic_model_data/')\n",
    "                  ) \n",
    "# get_element_topic_info('cláusulas',topic_memb,memberships_df,element_list,corpus)"
   ]
  },
  {
   "cell_type": "code",
   "execution_count": 10,
   "metadata": {},
   "outputs": [],
   "source": [
    "## Donades almenys tres lletres, el buscador ha de trobar tots els elements que les \n",
    "## continguin i la seva pertinença als topics dels diferents nivells\n",
    "\n",
    "## Un cop triada la paraula concreta, una funció que doni la informació referent a aquesta paraula:\n",
    "## - topic i altres paraules del topic: per tots els nivells. posant un limit de 10? paraules\n",
    "\n",
    "## decisiosn given topic?"
   ]
  }
 ],
 "metadata": {
  "hide_input": true,
  "kernelspec": {
   "display_name": "Python 3",
   "language": "python",
   "name": "python3"
  },
  "language_info": {
   "codemirror_mode": {
    "name": "ipython",
    "version": 3
   },
   "file_extension": ".py",
   "mimetype": "text/x-python",
   "name": "python",
   "nbconvert_exporter": "python",
   "pygments_lexer": "ipython3",
   "version": "3.8.10"
  }
 },
 "nbformat": 4,
 "nbformat_minor": 4
}
