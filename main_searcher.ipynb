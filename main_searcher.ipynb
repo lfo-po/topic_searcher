{
 "cells": [
  {
   "cell_type": "code",
   "execution_count": 1,
   "metadata": {},
   "outputs": [],
   "source": [
    "import sys\n",
    "import pickle\n",
    "\n",
    "import numpy as np\n",
    "import pandas as pd\n",
    "import ipywidgets as widgets\n",
    "#from IPython.display import display\n",
    "from ipywidgets import fixed\n",
    "\n",
    "# path_modules = '../../02_py_packages'\n",
    "# sys.path.append(path_modules)\n",
    "from functions import get_distributions_data,get_topic_common_elements,find_elements,get_element_topic_info"
   ]
  },
  {
   "cell_type": "code",
   "execution_count": 2,
   "metadata": {
    "scrolled": false
   },
   "outputs": [],
   "source": [
    "corpus='TH'\n",
    "element='w'\n",
    "with open('./topic_model_data/'+element+'_memberships_df.pkl','rb') as in_f:\n",
    "    memberships_df=pickle.load(in_f)\n",
    "with open('./topic_model_data/'+element+'_topics_h-structure.pkl','rb') as in_f:\n",
    "    topic_memb=pickle.load(in_f)\n",
    "\n",
    "element_list=list(memberships_df.index)"
   ]
  },
  {
   "cell_type": "markdown",
   "metadata": {},
   "source": [
    "### Search words and chains of words:\n",
    "\n",
    "Type a string (at least 4 characters) and all the words or chains of words containing it will be displayed."
   ]
  },
  {
   "cell_type": "code",
   "execution_count": 3,
   "metadata": {
    "scrolled": true
   },
   "outputs": [
    {
     "name": "stderr",
     "output_type": "stream",
     "text": [
      "Widget Javascript not detected.  It may not be installed or enabled properly.\n"
     ]
    },
    {
     "data": {
      "application/vnd.jupyter.widget-view+json": {
       "model_id": "770d5562d1e04072b1c738ff38fdce2d"
      }
     },
     "metadata": {},
     "output_type": "display_data"
    }
   ],
   "source": [
    "st_search=widgets.Text(\n",
    "    value=None,\n",
    "    placeholder='Type something',\n",
    "    description='Write a string to search:',\n",
    "    disabled=False\n",
    ")\n",
    "\n",
    "a=widgets.interact(find_elements, string=st_search, element_list=fixed(element_list),min_ch=fixed(4))    "
   ]
  },
  {
   "cell_type": "markdown",
   "metadata": {},
   "source": [
    "### Display topic hierarchical structure given a specific word:\n",
    "\n",
    "Type the exact word/chain of words and the topics which belongs to at each level will be displayed along with the other words belonging to them."
   ]
  },
  {
   "cell_type": "code",
   "execution_count": null,
   "metadata": {
    "scrolled": false
   },
   "outputs": [],
   "source": [
    "e_search=widgets.Text(\n",
    "    value=None,\n",
    "    placeholder='Type something',\n",
    "    description='Write the exact element:',\n",
    "    disabled=False\n",
    ")\n",
    "\n",
    "#(e,topic_memb,memberships_df,element_list,corpus,max_w=15,path='./topic_model_data/')\n",
    "print('Display topic hierarchical structure given a specific element:')\n",
    "b=widgets.interact(get_element_topic_info, e=e_search, topic_memb=fixed(topic_memb),\n",
    "                   memberships_df=fixed(memberships_df),element_list=fixed(element_list),element=fixed(element),\n",
    "                   corpus=fixed(corpus), max_w=fixed(15),path=fixed('./topic_model_data/')\n",
    "                  ) \n",
    "# get_element_topic_info('cláusulas',topic_memb,memberships_df,element_list,corpus)"
   ]
  },
  {
   "cell_type": "code",
   "execution_count": null,
   "metadata": {},
   "outputs": [],
   "source": [
    "## Donades almenys tres lletres, el buscador ha de trobar tots els elements que les \n",
    "## continguin i la seva pertinença als topics dels diferents nivells\n",
    "\n",
    "## Un cop triada la paraula concreta, una funció que doni la informació referent a aquesta paraula:\n",
    "## - topic i altres paraules del topic: per tots els nivells. posant un limit de 10? paraules\n",
    "\n",
    "## decisiosn given topic?"
   ]
  },
  {
   "cell_type": "code",
   "execution_count": null,
   "metadata": {},
   "outputs": [],
   "source": [
    "%load_ext watermark\n",
    "\n",
    "# python, ipython, packages, and machine characteristics\n",
    "%watermark -v -m -p pandas,numpy,scipy,ipywidgets,jupyter_contrib_nbextensions\n",
    "\n",
    "# date\n",
    "print (\" \")\n",
    "%watermark -u -n -t -z"
   ]
  },
  {
   "cell_type": "code",
   "execution_count": null,
   "metadata": {},
   "outputs": [],
   "source": []
  }
 ],
 "metadata": {
  "hide_input": false,
  "kernelspec": {
   "display_name": "Python 3",
   "language": "python",
   "name": "python3"
  },
  "language_info": {
   "codemirror_mode": {
    "name": "ipython",
    "version": 3
   },
   "file_extension": ".py",
   "mimetype": "text/x-python",
   "name": "python",
   "nbconvert_exporter": "python",
   "pygments_lexer": "ipython3",
   "version": "3.8.10"
  }
 },
 "nbformat": 4,
 "nbformat_minor": 4
}
